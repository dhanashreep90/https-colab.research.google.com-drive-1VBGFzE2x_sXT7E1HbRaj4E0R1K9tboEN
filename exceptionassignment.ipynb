{
  "nbformat": 4,
  "nbformat_minor": 0,
  "metadata": {
    "colab": {
      "name": "exceptionassignment",
      "provenance": []
    },
    "kernelspec": {
      "name": "python3",
      "display_name": "Python 3"
    },
    "language_info": {
      "name": "python"
    }
  },
  "cells": [
    {
      "cell_type": "code",
      "metadata": {
        "id": "oYQQgaMgAPBl"
      },
      "source": [
        "def divide(x,y):\n",
        "  #this fuction is intended to get an error when an integer is divided by zero \n",
        "  try:\n",
        "    x/y\n",
        "  except ZeroDivisionError as e:\n",
        "    print (\"undifined\")"
      ],
      "execution_count": null,
      "outputs": []
    },
    {
      "cell_type": "code",
      "metadata": {
        "colab": {
          "base_uri": "https://localhost:8080/"
        },
        "id": "sg6-gbosA9x0",
        "outputId": "6233c07d-21fd-4da6-ddb7-924430d2ae4c"
      },
      "source": [
        "divide(5,0)"
      ],
      "execution_count": null,
      "outputs": [
        {
          "output_type": "stream",
          "name": "stdout",
          "text": [
            "undifined\n"
          ]
        }
      ]
    },
    {
      "cell_type": "code",
      "metadata": {
        "colab": {
          "base_uri": "https://localhost:8080/"
        },
        "id": "zb-JqjQFBqln",
        "outputId": "2a9ef345-faa8-4d52-b3ac-643c2df86bba"
      },
      "source": [
        "divide(9,0)"
      ],
      "execution_count": null,
      "outputs": [
        {
          "output_type": "stream",
          "name": "stdout",
          "text": [
            "undifined\n"
          ]
        }
      ]
    },
    {
      "cell_type": "code",
      "metadata": {
        "colab": {
          "base_uri": "https://localhost:8080/"
        },
        "id": "7K2ofNwMB3gq",
        "outputId": "4ba625b7-308e-4dde-d079-4e53b3a626f2"
      },
      "source": [
        "subject=[\"Americans\",\"Indians\"]\n",
        "verb=[\"play\",\"watch\"]\n",
        "objects=[\"Baseball\",\"Cricket\"]\n",
        "\n",
        "x=[(s+' '+v+' '+o+\".\") for s in subject for v in verb for o in objects]\n",
        "print(x,end= '')"
      ],
      "execution_count": null,
      "outputs": [
        {
          "output_type": "stream",
          "name": "stdout",
          "text": [
            "['Americans play Baseball.', 'Americans play Cricket.', 'Americans watch Baseball.', 'Americans watch Cricket.', 'Indians play Baseball.', 'Indians play Cricket.', 'Indians watch Baseball.', 'Indians watch Cricket.']"
          ]
        }
      ]
    },
    {
      "cell_type": "code",
      "metadata": {
        "colab": {
          "base_uri": "https://localhost:8080/"
        },
        "id": "L_kYWOoWB6kt",
        "outputId": "242fa675-1dc1-42e5-e0c7-43e18eb898bf"
      },
      "source": [
        "x"
      ],
      "execution_count": null,
      "outputs": [
        {
          "output_type": "execute_result",
          "data": {
            "text/plain": [
              "['Americans play Baseball.',\n",
              " 'Americans play Cricket.',\n",
              " 'Americans watch Baseball.',\n",
              " 'Americans watch Cricket.',\n",
              " 'Indians play Baseball.',\n",
              " 'Indians play Cricket.',\n",
              " 'Indians watch Baseball.',\n",
              " 'Indians watch Cricket.']"
            ]
          },
          "metadata": {},
          "execution_count": 45
        }
      ]
    },
    {
      "cell_type": "code",
      "metadata": {
        "id": "QBGFmdW1Kftp"
      },
      "source": [
        ""
      ],
      "execution_count": null,
      "outputs": []
    }
  ]
}